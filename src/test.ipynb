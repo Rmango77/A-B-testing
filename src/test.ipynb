{
 "cells": [
  {
   "cell_type": "code",
   "execution_count": null,
   "metadata": {
    "pycharm": {
     "name": "#%%\n"
    }
   },
   "outputs": [],
   "source": [
    "from uuid import uuid4\n",
    "from datetime import datetime, timedelta\n",
    "\n",
    "import numpy as np\n",
    "import pandas as pd\n",
    "\n",
    "import plotly.express as px\n",
    "import plotly.graph_objects as go"
   ]
  },
  {
   "cell_type": "code",
   "execution_count": null,
   "metadata": {
    "pycharm": {
     "name": "#%%\n"
    }
   },
   "outputs": [],
   "source": [
    "def get_dataset(size, days) -> pd.DataFrame:\n",
    "\n",
    "    end = datetime.today()\n",
    "    start = today - timedelta(days=days)\n",
    "\n",
    "    data = pd.DataFrame(data={\n",
    "        'user_id': [str(uuid4()) for _ in range(size)],\n",
    "        'group':   np.random.choice(['old_version', 'new_version'], size=size),\n",
    "        'timestamp': pd.date_range(start=start, end=end, periods=size)\n",
    "    })\n",
    "\n",
    "    old_version_index = data[data['group'] == 'old_version'].index\n",
    "    new_version_index = data[data['group'] == 'new_version'].index\n",
    "\n",
    "    data.loc[old_version_index, 'converted'] = np.random.choice(\n",
    "                                                        [0, 1],\n",
    "                                                        size=(len(old_version_index), 1),\n",
    "                                                        p=[0.8, 0.2]\n",
    "                                                    )\n",
    "\n",
    "    data.loc[new_version_index, 'converted'] = np.random.choice(\n",
    "                                                        [0, 1],\n",
    "                                                        size=(len(new_version_index), 1),\n",
    "                                                        p=[0.75, 0.25]\n",
    "                                                    )\n",
    "\n",
    "    data['converted'] = data['converted'].astype('int')\n",
    "\n",
    "    data.loc[old_version_index, 'avg_check'] = np.random.normal(\n",
    "                                                        size=len(old_version_index),\n",
    "                                                        loc=15,\n",
    "                                                        scale=7\n",
    "                                                    )\n",
    "\n",
    "    data.loc[new_version_index, 'avg_check'] = np.random.normal(\n",
    "                                                        size=len(new_version_index),\n",
    "                                                        loc=17,\n",
    "                                                        scale=6.4\n",
    "                                                    )\n",
    "\n",
    "    return data"
   ]
  },
  {
   "cell_type": "code",
   "execution_count": null,
   "metadata": {
    "pycharm": {
     "name": "#%%\n"
    }
   },
   "outputs": [],
   "source": [
    "today = datetime.today()\n",
    "start = today - timedelta(days=30)\n",
    "\n",
    "f'start: {start.strftime(\"%Y-%m-%d %H:%M:%S\")} ||| end: {today.strftime(\"%Y-%m-%d %H:%M:%S\")}'"
   ]
  },
  {
   "cell_type": "code",
   "execution_count": null,
   "metadata": {
    "pycharm": {
     "name": "#%%\n"
    }
   },
   "outputs": [],
   "source": [
    "data = get_dataset(1000, 15)\n",
    "data['timestamp'] = pd.to_datetime(data['timestamp'])"
   ]
  },
  {
   "cell_type": "code",
   "execution_count": null,
   "metadata": {
    "pycharm": {
     "name": "#%%\n"
    }
   },
   "outputs": [],
   "source": [
    "f\"min: {data['timestamp'].min()} ||| max: {data['timestamp'].max()}\""
   ]
  },
  {
   "cell_type": "code",
   "execution_count": null,
   "metadata": {
    "pycharm": {
     "name": "#%%\n"
    }
   },
   "outputs": [],
   "source": [
    "fig = go.Figure()\n",
    "\n",
    "fig.add_trace(\n",
    "    go.Histogram(\n",
    "        dict(\n",
    "            x=data[data['group'] == 'old_version']['converted'],\n",
    "            name='old_version'\n",
    "        )\n",
    "    )\n",
    ")\n",
    "\n",
    "fig.add_trace(\n",
    "    go.Histogram(\n",
    "        dict(\n",
    "            x=data[data['group'] == 'new_version']['converted'],\n",
    "            name='new_version'\n",
    "        )\n",
    "    )\n",
    ")\n",
    "\n",
    "fig.update_traces(hovertemplate=\"Сконвертирован: %{x}<br>\"\n",
    "                                \"Количество: %{y}\")\n",
    "\n",
    "fig.update_layout(\n",
    "    title='Распределение конверсий в новой и старой версии сайта'\n",
    ")\n",
    "\n",
    "\n",
    "fig.update_xaxes(\n",
    "    title='Сконвертирован'\n",
    ")\n",
    "\n",
    "fig.update_yaxes(\n",
    "    title='Количество'\n",
    ")\n",
    "\n",
    "fig.show()"
   ]
  },
  {
   "cell_type": "code",
   "execution_count": null,
   "metadata": {
    "pycharm": {
     "name": "#%%\n"
    }
   },
   "outputs": [],
   "source": [
    "data['timestamp'].dt.strftime('%Y-%m-%d').groupby('timestamp').agg('count')"
   ]
  },
  {
   "cell_type": "code",
   "execution_count": null,
   "metadata": {
    "pycharm": {
     "name": "#%%\n"
    }
   },
   "outputs": [],
   "source": [
    "data.groupby(pd.Grouper(key='timestamp', freq='D')).count().rename({'user_id': 'count'}, axis=1)['count']"
   ]
  },
  {
   "cell_type": "code",
   "execution_count": null,
   "metadata": {
    "pycharm": {
     "name": "#%%\n"
    }
   },
   "outputs": [],
   "source": [
    "res = data.groupby(pd.Grouper(key='timestamp', freq='D')).count().rename({'user_id': 'count'}, axis=1)['count']\n",
    "px.histogram(\n",
    "    x = res.index,\n",
    "    y = res,\n",
    "    nbins=len(res.index)\n",
    ")"
   ]
  }
 ],
 "metadata": {
  "kernelspec": {
   "display_name": "Python 3",
   "language": "python",
   "name": "python3"
  },
  "language_info": {
   "codemirror_mode": {
    "name": "ipython",
    "version": 3
   },
   "file_extension": ".py",
   "mimetype": "text/x-python",
   "name": "python",
   "nbconvert_exporter": "python",
   "pygments_lexer": "ipython3",
   "version": "3.7.6"
  }
 },
 "nbformat": 4,
 "nbformat_minor": 1
}
